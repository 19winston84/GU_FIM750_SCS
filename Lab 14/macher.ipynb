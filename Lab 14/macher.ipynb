{
 "cells": [
  {
   "cell_type": "code",
   "execution_count": 126,
   "metadata": {},
   "outputs": [],
   "source": [
    "import numpy as np\n",
    "import matplotlib.pyplot as plt"
   ]
  },
  {
   "cell_type": "code",
   "execution_count": 127,
   "metadata": {},
   "outputs": [],
   "source": [
    "def macher(mu):\n",
    "    #return (mu-(1/(2+mu))-(mu**2/(2+mu))+np.sqrt((5+9*mu**2+4*mu**3+mu**4)/((2+mu)**2)))\n",
    "    return np.log((1 + mu**2)/(mu + 2))"
   ]
  },
  {
   "cell_type": "code",
   "execution_count": 128,
   "metadata": {},
   "outputs": [
    {
     "name": "stdout",
     "output_type": "stream",
     "text": [
      " ** On entry to DLASCL parameter number  4 had an illegal value\n",
      " ** On entry to DLASCL parameter number  4 had an illegal value\n",
      " ** On entry to DLASCL parameter number  4 had an illegal value\n",
      " ** On entry to DLASCL parameter number  4 had an illegal value\n",
      " ** On entry to DLASCL parameter number  5 had an illegal value\n",
      " ** On entry to DLASCL parameter number  4 had an illegal value\n"
     ]
    },
    {
     "name": "stderr",
     "output_type": "stream",
     "text": [
      "/var/folders/51/kbj208h515n2q4vb3brs8m_r0000gn/T/ipykernel_24851/1315307738.py:6: RuntimeWarning: divide by zero encountered in log\n",
      "  xValues = np.log(uDelta)\n",
      "/opt/homebrew/anaconda3/lib/python3.10/site-packages/numpy/lib/polynomial.py:667: RuntimeWarning: invalid value encountered in divide\n",
      "  lhs /= scale\n"
     ]
    },
    {
     "ename": "LinAlgError",
     "evalue": "SVD did not converge in Linear Least Squares",
     "output_type": "error",
     "traceback": [
      "\u001b[0;31m---------------------------------------------------------------------------\u001b[0m",
      "\u001b[0;31mLinAlgError\u001b[0m                               Traceback (most recent call last)",
      "\u001b[1;32m/Users/fredriktsitje/Documents/Github/SimulationOfComplexSystems/Lab 14/macher.ipynb Cell 3\u001b[0m line \u001b[0;36m1\n\u001b[1;32m      <a href='vscode-notebook-cell:/Users/fredriktsitje/Documents/Github/SimulationOfComplexSystems/Lab%2014/macher.ipynb#W2sZmlsZQ%3D%3D?line=7'>8</a>\u001b[0m plt\u001b[39m.\u001b[39mplot(xValues,yValues,\u001b[39m'\u001b[39m\u001b[39mo\u001b[39m\u001b[39m'\u001b[39m)\n\u001b[1;32m     <a href='vscode-notebook-cell:/Users/fredriktsitje/Documents/Github/SimulationOfComplexSystems/Lab%2014/macher.ipynb#W2sZmlsZQ%3D%3D?line=9'>10</a>\u001b[0m \u001b[39m# regression\u001b[39;00m\n\u001b[0;32m---> <a href='vscode-notebook-cell:/Users/fredriktsitje/Documents/Github/SimulationOfComplexSystems/Lab%2014/macher.ipynb#W2sZmlsZQ%3D%3D?line=10'>11</a>\u001b[0m coeff \u001b[39m=\u001b[39m np\u001b[39m.\u001b[39;49mpolyfit(xValues,yValues,\u001b[39m1\u001b[39;49m)\n\u001b[1;32m     <a href='vscode-notebook-cell:/Users/fredriktsitje/Documents/Github/SimulationOfComplexSystems/Lab%2014/macher.ipynb#W2sZmlsZQ%3D%3D?line=11'>12</a>\u001b[0m \u001b[39m# print(coeff)\u001b[39;00m\n\u001b[1;32m     <a href='vscode-notebook-cell:/Users/fredriktsitje/Documents/Github/SimulationOfComplexSystems/Lab%2014/macher.ipynb#W2sZmlsZQ%3D%3D?line=12'>13</a>\u001b[0m \u001b[39mprint\u001b[39m(coeff)\n",
      "File \u001b[0;32m<__array_function__ internals>:180\u001b[0m, in \u001b[0;36mpolyfit\u001b[0;34m(*args, **kwargs)\u001b[0m\n",
      "File \u001b[0;32m/opt/homebrew/anaconda3/lib/python3.10/site-packages/numpy/lib/polynomial.py:668\u001b[0m, in \u001b[0;36mpolyfit\u001b[0;34m(x, y, deg, rcond, full, w, cov)\u001b[0m\n\u001b[1;32m    666\u001b[0m scale \u001b[39m=\u001b[39m NX\u001b[39m.\u001b[39msqrt((lhs\u001b[39m*\u001b[39mlhs)\u001b[39m.\u001b[39msum(axis\u001b[39m=\u001b[39m\u001b[39m0\u001b[39m))\n\u001b[1;32m    667\u001b[0m lhs \u001b[39m/\u001b[39m\u001b[39m=\u001b[39m scale\n\u001b[0;32m--> 668\u001b[0m c, resids, rank, s \u001b[39m=\u001b[39m lstsq(lhs, rhs, rcond)\n\u001b[1;32m    669\u001b[0m c \u001b[39m=\u001b[39m (c\u001b[39m.\u001b[39mT\u001b[39m/\u001b[39mscale)\u001b[39m.\u001b[39mT  \u001b[39m# broadcast scale coefficients\u001b[39;00m\n\u001b[1;32m    671\u001b[0m \u001b[39m# warn on rank reduction, which indicates an ill conditioned matrix\u001b[39;00m\n",
      "File \u001b[0;32m<__array_function__ internals>:180\u001b[0m, in \u001b[0;36mlstsq\u001b[0;34m(*args, **kwargs)\u001b[0m\n",
      "File \u001b[0;32m/opt/homebrew/anaconda3/lib/python3.10/site-packages/numpy/linalg/linalg.py:2300\u001b[0m, in \u001b[0;36mlstsq\u001b[0;34m(a, b, rcond)\u001b[0m\n\u001b[1;32m   2297\u001b[0m \u001b[39mif\u001b[39;00m n_rhs \u001b[39m==\u001b[39m \u001b[39m0\u001b[39m:\n\u001b[1;32m   2298\u001b[0m     \u001b[39m# lapack can't handle n_rhs = 0 - so allocate the array one larger in that axis\u001b[39;00m\n\u001b[1;32m   2299\u001b[0m     b \u001b[39m=\u001b[39m zeros(b\u001b[39m.\u001b[39mshape[:\u001b[39m-\u001b[39m\u001b[39m2\u001b[39m] \u001b[39m+\u001b[39m (m, n_rhs \u001b[39m+\u001b[39m \u001b[39m1\u001b[39m), dtype\u001b[39m=\u001b[39mb\u001b[39m.\u001b[39mdtype)\n\u001b[0;32m-> 2300\u001b[0m x, resids, rank, s \u001b[39m=\u001b[39m gufunc(a, b, rcond, signature\u001b[39m=\u001b[39;49msignature, extobj\u001b[39m=\u001b[39;49mextobj)\n\u001b[1;32m   2301\u001b[0m \u001b[39mif\u001b[39;00m m \u001b[39m==\u001b[39m \u001b[39m0\u001b[39m:\n\u001b[1;32m   2302\u001b[0m     x[\u001b[39m.\u001b[39m\u001b[39m.\u001b[39m\u001b[39m.\u001b[39m] \u001b[39m=\u001b[39m \u001b[39m0\u001b[39m\n",
      "File \u001b[0;32m/opt/homebrew/anaconda3/lib/python3.10/site-packages/numpy/linalg/linalg.py:101\u001b[0m, in \u001b[0;36m_raise_linalgerror_lstsq\u001b[0;34m(err, flag)\u001b[0m\n\u001b[1;32m    100\u001b[0m \u001b[39mdef\u001b[39;00m \u001b[39m_raise_linalgerror_lstsq\u001b[39m(err, flag):\n\u001b[0;32m--> 101\u001b[0m     \u001b[39mraise\u001b[39;00m LinAlgError(\u001b[39m\"\u001b[39m\u001b[39mSVD did not converge in Linear Least Squares\u001b[39m\u001b[39m\"\u001b[39m)\n",
      "\u001b[0;31mLinAlgError\u001b[0m: SVD did not converge in Linear Least Squares"
     ]
    },
    {
     "data": {
      "image/png": "[encoded data removed]",
      "text/plain": [
       "<Figure size 640x480 with 1 Axes>"
      ]
     },
     "metadata": {},
     "output_type": "display_data"
    }
   ],
   "source": [
    "uCritical = 0.066\n",
    "uOffside = np.linspace(0.001,uCritical,100)\n",
    "uDelta = np.abs(uOffside-uCritical)\n",
    "\n",
    "yValues = macher(uDelta)\n",
    "xValues = np.log(uDelta)\n",
    "\n",
    "plt.plot(xValues,yValues,'o')\n",
    "\n",
    "# regression\n",
    "coeff = np.polyfit(xValues,yValues,1)\n",
    "# print(coeff)\n",
    "print(coeff)"
   ]
  },
  {
   "cell_type": "code",
   "execution_count": null,
   "metadata": {},
   "outputs": [],
   "source": []
  }
 ],
 "metadata": {
  "kernelspec": {
   "display_name": "base",
   "language": "python",
   "name": "python3"
  },
  "language_info": {
   "codemirror_mode": {
    "name": "ipython",
    "version": 3
   },
   "file_extension": ".py",
   "mimetype": "text/x-python",
   "name": "python",
   "nbconvert_exporter": "python",
   "pygments_lexer": "ipython3",
   "version": "3.10.9"
  }
 },
 "nbformat": 4,
 "nbformat_minor": 2
}
