{
 "cells": [
  {
   "cell_type": "markdown",
   "metadata": {},
   "source": [
    "Symplectic versus linearized solutions of the Lotka–Volterra model. \n",
    "\n",
    "Chose some parameters for the Lotka–Volterra model with initial conditions ($x_0, y_0$) close to the equilibrium point.\n",
    "\n",
    "a) Using the symplectic Euler integration scheme, obtain a numerical trajectory. Numerically estimate the period of the trajectory."
   ]
  },
  {
   "cell_type": "code",
   "execution_count": null,
   "metadata": {},
   "outputs": [],
   "source": []
  }
 ],
 "metadata": {
  "language_info": {
   "name": "python"
  }
 },
 "nbformat": 4,
 "nbformat_minor": 2
}
