{
 "cells": [
  {
   "cell_type": "markdown",
   "metadata": {},
   "source": [
    "Average path length and clustering coefficient of Albert–Barabási preferential-growth graphs. \n",
    "\n",
    "Create a large Albert–Barabási preferential-growth graph (n = 1000) for different values of m.\n",
    "\n",
    "a) Calculate the average path length of the graph as a function of n for each m and plot your results. Compare your results with figure 12.7(a). [Hint: You can calculate the average path length of the graph during the growth and record it as a function of n for computational efficiency.]\n",
    "\n",
    "b) Simulate Albert–Barabási graphs with n0 = 20 and m ∈ [1, 2, 3, ... , 20] for n = 1000 and calculate the clustering coefficient of each graph. Compare your results with figure 12.7(b)."
   ]
  },
  {
   "cell_type": "code",
   "execution_count": 51,
   "metadata": {},
   "outputs": [],
   "source": [
    "import numpy as np\n",
    "\n",
    "def RoulettWheel(kProbabilities):\n",
    "    r = np.random.uniform(low=0.0,high=1.0)\n",
    "    for j in range(kProbabilities.shape[0]):\n",
    "            if kProbabilities[j,0]>r:\n",
    "                index = kProbabilities[j,1]\n",
    "                break\n",
    "    \n",
    "    return index"
   ]
  },
  {
   "cell_type": "code",
   "execution_count": 75,
   "metadata": {},
   "outputs": [
    {
     "name": "stderr",
     "output_type": "stream",
     "text": [
      "100%|██████████| 990/990 [03:53<00:00,  4.24it/s] \n",
      "100%|██████████| 990/990 [01:22<00:00, 12.02it/s] \n",
      "100%|██████████| 990/990 [01:03<00:00, 15.58it/s] \n"
     ]
    }
   ],
   "source": [
    "import numpy as np\n",
    "import tqdm as tqdm\n",
    "import matplotlib.pyplot as plt\n",
    "\n",
    "n0 = 10\n",
    "parameterM = [1,3,10]\n",
    "n = 1000\n",
    "steps = n - n0\n",
    "\n",
    "averagePathLengths = []\n",
    "listOfAveragePathLengths = []\n",
    "listforB = []\n",
    "\n",
    "\n",
    "for g, m in enumerate(parameterM):\n",
    "    adjMatrix = np.ones((n0, n0))\n",
    "\n",
    "    for step in tqdm.trange(steps):  # Use a different variable for the inner loop\n",
    "        np.fill_diagonal(adjMatrix, 0)\n",
    "        \n",
    "        degrees = np.sum(adjMatrix, axis=1, dtype='int')\n",
    "        totDegrees = np.sum(degrees)\n",
    "        degrees = np.cumsum(degrees)\n",
    "        kProbabilities=degrees/totDegrees\n",
    "        kProbabilities = np.column_stack((kProbabilities, np.arange(n0)))    \n",
    "        sorted_indices = np.argsort(kProbabilities[:, 0])[::1]\n",
    "        kProbabilities = kProbabilities[sorted_indices]\n",
    "\n",
    "        \n",
    "        newColumn = np.zeros((n0, 1))\n",
    "        for i in range(m):\n",
    "            tmpIdx = RoulettWheel(kProbabilities)\n",
    "            tmpIdx = int(tmpIdx)\n",
    "            newColumn[tmpIdx] = 1\n",
    "            copyAdjMatrix = np.copy(adjMatrix)\n",
    "            copyAdjMatrix = np.delete(copyAdjMatrix, tmpIdx, axis=0)\n",
    "            degrees = np.sum(copyAdjMatrix, axis=1, dtype='int')\n",
    "            totDegrees = np.sum(degrees)\n",
    "            degrees = np.cumsum(degrees)\n",
    "            kProbabilities=degrees/totDegrees\n",
    "            kProbabilities = np.column_stack((kProbabilities, np.arange(len(kProbabilities))))    \n",
    "            sorted_indices = np.argsort(kProbabilities[:, 0])[::1]\n",
    "            kProbabilities = kProbabilities[sorted_indices]  \n",
    "\n",
    "        # Change Adjacency Matrix\n",
    "        newRow = np.reshape(newColumn, (1, n0))\n",
    "        newRow = np.c_[newRow, [0]]\n",
    "        adjMatrix = np.c_[adjMatrix, newColumn]\n",
    "        adjMatrix = np.r_[adjMatrix, newRow]\n",
    "\n",
    "        \n",
    "        n0 += 1\n",
    "\n",
    "        if (step % 5) == 0:\n",
    "            pathMatrix = np.ones((n0, n0)) * (-1)\n",
    "            q = 1\n",
    "            offCount = n0 + 1\n",
    "            while offCount > n0:\n",
    "                resMat = np.linalg.matrix_power(adjMatrix, q)\n",
    "                \n",
    "                for s in range(n0):\n",
    "                    for t in range(s,n0):\n",
    "                        if resMat[s, t] != 0 and pathMatrix[s, t] == -1 and pathMatrix[t, s] == -1 and s != t:\n",
    "                            pathMatrix[s, t] = q\n",
    "                            pathMatrix[t, s] = q\n",
    "\n",
    "                offCount = np.count_nonzero(pathMatrix == -1)\n",
    "                q += 1\n",
    "\n",
    "            totalPathLength = np.sum(pathMatrix)\n",
    "            averagePathLength = totalPathLength / (n0 * (n0 - 1))\n",
    "\n",
    "            \n",
    "            averagePathLengths.append(averagePathLength)\n",
    "        \n",
    "\n",
    "    \n",
    "    degrees = np.sum(adjMatrix, axis=1, dtype='int')\n",
    "    listforB.append(degrees)\n",
    "    listOfAveragePathLengths.append(averagePathLengths)\n",
    "    averagePathLengths = []\n",
    "    n0 = 10\n",
    "\n",
    "\n",
    "    \n",
    "\n"
   ]
  },
  {
   "cell_type": "code",
   "execution_count": 79,
   "metadata": {},
   "outputs": [
    {
     "data": {
      "image/png": "[encoded data removed]",
      "text/plain": [
       "<Figure size 640x480 with 1 Axes>"
      ]
     },
     "metadata": {},
     "output_type": "display_data"
    }
   ],
   "source": [
    "A = listOfAveragePathLengths[0]\n",
    "B = listOfAveragePathLengths[1]\n",
    "C = listOfAveragePathLengths[2]\n",
    "\n",
    "xLine = np.linspace(10, 1000, 198)\n",
    "\n",
    "plt.semilogx(xLine, A, label='m = 1', marker='o', linestyle='None')\n",
    "plt.semilogx(xLine, B, label='m = 3', marker='o', linestyle='None')\n",
    "plt.semilogx(xLine, C, label='m = 10', marker='o', linestyle='None')\n",
    "\n",
    "plt.legend()\n",
    "plt.xlabel('n')\n",
    "plt.ylabel('l')\n",
    "plt.show()"
   ]
  },
  {
   "cell_type": "code",
   "execution_count": null,
   "metadata": {},
   "outputs": [],
   "source": [
    "n0 = 20\n",
    "parameterM = np.linspace(1,20,20)\n",
    "n = 1000\n",
    "steps = n - n0\n",
    "\n",
    "listClusteringCoeff = []\n",
    "\n",
    "for g, m in enumerate(parameterM):\n",
    "    adjMatrix = np.ones((n0, n0))\n",
    "\n",
    "    for step in range(steps):  # Use a different variable for the inner loop\n",
    "        np.fill_diagonal(adjMatrix, 0)\n",
    "        \n",
    "        degrees = np.sum(adjMatrix, axis=1, dtype='int')\n",
    "        totDegrees = np.sum(degrees)\n",
    "        degrees = np.cumsum(degrees)\n",
    "        kProbabilities=degrees/totDegrees\n",
    "        kProbabilities = np.column_stack((kProbabilities, np.arange(n0)))    \n",
    "        sorted_indices = np.argsort(kProbabilities[:, 0])[::1]\n",
    "        kProbabilities = kProbabilities[sorted_indices]\n",
    "\n",
    "        \n",
    "        newColumn = np.zeros((n0, 1))\n",
    "        for i in range(int(m)):\n",
    "            tmpIdx = RoulettWheel(kProbabilities)\n",
    "            tmpIdx = int(tmpIdx)\n",
    "            newColumn[tmpIdx] = 1\n",
    "            copyAdjMatrix = np.copy(adjMatrix)\n",
    "            copyAdjMatrix = np.delete(copyAdjMatrix, tmpIdx, axis=0)\n",
    "            degrees = np.sum(copyAdjMatrix, axis=1, dtype='int')\n",
    "            totDegrees = np.sum(degrees)\n",
    "            degrees = np.cumsum(degrees)\n",
    "            kProbabilities=degrees/totDegrees\n",
    "            kProbabilities = np.column_stack((kProbabilities, np.arange(len(kProbabilities))))    \n",
    "            sorted_indices = np.argsort(kProbabilities[:, 0])[::1]\n",
    "            kProbabilities = kProbabilities[sorted_indices]  \n",
    "\n",
    "        # Change Adjacency Matrix\n",
    "        newRow = np.reshape(newColumn, (1, n0))\n",
    "        newRow = np.c_[newRow, [0]]\n",
    "        adjMatrix = np.c_[adjMatrix, newColumn]\n",
    "        adjMatrix = np.r_[adjMatrix, newRow]\n",
    "\n",
    "        \n",
    "        n0 += 1\n",
    "\n",
    "    # Calculate Coeff\n",
    "    cubeAdjMatrix = np.linalg.matrix_power(adjMatrix,3)\n",
    "    nominator= np.trace(cubeAdjMatrix)\n",
    "    degrees = np.sum(adjMatrix, axis=1, dtype='int')\n",
    "    tmpFactor = [degree*(degree-1) for degree in degrees]\n",
    "    denominator = np.sum(tmpFactor)\n",
    "\n",
    "    clusteringCoeff = nominator/denominator\n",
    "    listClusteringCoeff.append(clusteringCoeff)\n",
    "\n",
    "    n0 = 20\n"
   ]
  },
  {
   "cell_type": "code",
   "execution_count": 83,
   "metadata": {},
   "outputs": [
    {
     "data": {
      "image/png": "[encoded data removed]",
      "text/plain": [
       "<Figure size 640x480 with 1 Axes>"
      ]
     },
     "metadata": {},
     "output_type": "display_data"
    }
   ],
   "source": [
    "plt.plot(parameterM,listClusteringCoeff,'o')\n",
    "plt.ylabel('Clustering coefficient')\n",
    "plt.xlabel('m')\n",
    "plt.ylim([0,0.2])\n",
    "plt.show()"
   ]
  }
 ],
 "metadata": {
  "kernelspec": {
   "display_name": "base",
   "language": "python",
   "name": "python3"
  },
  "language_info": {
   "codemirror_mode": {
    "name": "ipython",
    "version": 3
   },
   "file_extension": ".py",
   "mimetype": "text/x-python",
   "name": "python",
   "nbconvert_exporter": "python",
   "pygments_lexer": "ipython3",
   "version": "3.10.9"
  }
 },
 "nbformat": 4,
 "nbformat_minor": 2
}
