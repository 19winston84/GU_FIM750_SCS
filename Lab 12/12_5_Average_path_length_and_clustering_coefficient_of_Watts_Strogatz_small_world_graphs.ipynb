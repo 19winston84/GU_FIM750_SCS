{
 "cells": [
  {
   "cell_type": "markdown",
   "metadata": {},
   "source": [
    "Average path length and clustering coefficient of Watts–Strogatz small-world graphs. \n",
    "\n",
    "Create a large Watts–Strogatz graph (n > 200, c > 4) for different values of p.\n",
    "\n",
    "1. Calculate the average path length of the graph for each p and plot your results. Verify the theoretical approximations for small and large values of p, as shown in figure 12.6(a). Repeat for different values of n and c.\n",
    "2. Calculate the clustering coefficient for p = 0 as a function of c and show that it matches the theoretical prediction, as shown in figure 12.6(b)."
   ]
  },
  {
   "cell_type": "code",
   "execution_count": 60,
   "metadata": {},
   "outputs": [
    {
     "name": "stderr",
     "output_type": "stream",
     "text": [
      " 83%|████████▎ | 25/30 [00:16<00:00,  6.10it/s]/opt/homebrew/anaconda3/lib/python3.10/site-packages/numpy/linalg/linalg.py:668: RuntimeWarning: invalid value encountered in matmul\n",
      "  z = a if z is None else fmatmul(z, z)\n",
      "100%|██████████| 30/30 [02:46<00:00,  5.57s/it]\n"
     ]
    }
   ],
   "source": [
    "import numpy as np\n",
    "import matplotlib.pyplot as plt\n",
    "from tqdm import tqdm \n",
    "\n",
    "n = 300\n",
    "c = 6\n",
    "probabilities=np.logspace(-6, 0.99, 30)\n",
    "averagePathLengths = []\n",
    "clusteringCoeffList = []\n",
    "\n",
    "boundary = c/2\n",
    "adjMatrix = np.zeros((n, n))\n",
    "for k in range(n):\n",
    "    for l in range(n):\n",
    "        if 1 <= np.absolute((k - l)%n) and np.absolute((l - k)%n) <= boundary:\n",
    "            adjMatrix[k, l] = 1\n",
    "            adjMatrix[l, k] = 1\n",
    "\n",
    "ogAdjMatrix=adjMatrix\n",
    "\n",
    "for i, p in enumerate(tqdm(probabilities)):\n",
    "    randMatrix = np.random.uniform(low=0.0, high=1.0, size=(n, n))\n",
    "\n",
    "\n",
    "    #rewiring\n",
    "    for q in range(n):\n",
    "        for s in range(q,n):\n",
    "            if adjMatrix[q,s] == 1:\n",
    "                if randMatrix[q,s] <= p:\n",
    "                    zeroIndices = np.where(adjMatrix[q] == 0)[0]\n",
    "                    index = np.random.choice(zeroIndices)\n",
    "                    \n",
    "                    randMatrix[q,index]=1\n",
    "                    adjMatrix[q,s] = 0\n",
    "                    adjMatrix[s,q] = 0\n",
    "                    adjMatrix[q,index] = 1\n",
    "                    adjMatrix[index,q] = 1\n",
    "\n",
    "    pathMatrix = np.ones((n, n)) * (-1)\n",
    "    q = 1\n",
    "    offCount = n + 1\n",
    "    while offCount > n:\n",
    "        resMat = np.linalg.matrix_power(adjMatrix, q)\n",
    "        \n",
    "        for s in range(n):\n",
    "            for t in range(s,n):\n",
    "                if resMat[s, t] != 0 and pathMatrix[s, t] == -1 and pathMatrix[t, s] == -1 and s != t:\n",
    "                    pathMatrix[s, t] = q\n",
    "                    pathMatrix[t, s] = q\n",
    "\n",
    "        offCount = np.count_nonzero(pathMatrix == -1)\n",
    "        q += 1\n",
    "\n",
    "    totalPathLength = np.sum(pathMatrix) + n\n",
    "    averagePathLength = totalPathLength / (n * (n - 1))\n",
    "\n",
    "    \n",
    "    averagePathLengths.append(averagePathLength)\n",
    "    \n",
    "    cubeAdjMatrix = np.linalg.matrix_power(adjMatrix,3)\n",
    "    nominator= np.trace(cubeAdjMatrix)\n",
    "    degrees = np.sum(adjMatrix, axis=1, dtype='int')\n",
    "    tmpFactor = [degree*(degree-1) for degree in degrees]\n",
    "    denominator = np.sum(tmpFactor)\n",
    "\n",
    "    clusteringCoeff = nominator/denominator\n",
    "    clusteringCoeffList.append(clusteringCoeff)\n",
    "\n",
    "    adjMatrix = ogAdjMatrix\n",
    "\n"
   ]
  },
  {
   "cell_type": "code",
   "execution_count": 61,
   "metadata": {},
   "outputs": [
    {
     "data": {
      "image/png": "[encoded data removed]",
      "text/plain": [
       "<Figure size 640x480 with 1 Axes>"
      ]
     },
     "metadata": {},
     "output_type": "display_data"
    }
   ],
   "source": [
    "l1 = n / (2 * c)\n",
    "l2 = np.log(n) / np.log(c)\n",
    "\n",
    "plt.semilogx(probabilities, averagePathLengths, marker='o', linestyle='None', label='Average Path Length')\n",
    "plt.axhline(y=l1, color='k', linestyle='--', label=r'$l \\approx \\frac{n}{2c}$')\n",
    "plt.axhline(y=l2, color='k', linestyle='--', label=r'$l \\approx \\frac{\\ln(n)}{\\ln(c)}$')\n",
    "\n",
    "plt.title('Average Path Length vs. Probability')\n",
    "plt.xlabel('Probabilities')\n",
    "plt.ylabel('l')\n",
    "plt.ylim([0,50])\n",
    "plt.show()"
   ]
  },
  {
   "cell_type": "code",
   "execution_count": 75,
   "metadata": {},
   "outputs": [
    {
     "name": "stderr",
     "output_type": "stream",
     "text": [
      "100%|██████████| 12/12 [00:00<00:00, 1051.45it/s]\n"
     ]
    }
   ],
   "source": [
    "clusteringCoeff = 0\n",
    "n = 20\n",
    "parameterC = np.array([2,4,6,8,10,12,14,16,18,20,22,24])\n",
    "p = 0\n",
    "clusteringCoeffList1 = []\n",
    "\n",
    "\n",
    "for j, c in enumerate(tqdm(parameterC)):\n",
    "    boundary = c/2\n",
    "    adjMatrix = np.zeros((n, n))\n",
    "    for k in range(n):\n",
    "        for l in range(n):\n",
    "            if 1 <= np.absolute((k - l)%n) and np.absolute((l - k)%n) <= boundary:\n",
    "                adjMatrix[k, l] = 1\n",
    "                adjMatrix[l, k] = 1\n",
    "\n",
    "    randMatrix = np.random.uniform(low=0.0, high=1.0, size=(n, n))\n",
    "\n",
    "\n",
    "    #rewiring\n",
    "    for q in range(n):\n",
    "        for s in range(q,n):\n",
    "            if adjMatrix[q,s] == 1:\n",
    "                if randMatrix[q,s] <= p:\n",
    "                    zeroIndices = np.where(adjMatrix[q] == 0)[0]\n",
    "                    index = np.random.choice(zeroIndices)\n",
    "                    randMatrix[q,index]=1\n",
    "                    adjMatrix[q,s] = 0\n",
    "                    adjMatrix[s,q] = 0\n",
    "                    adjMatrix[q,index] = 1\n",
    "                    adjMatrix[index,q] = 1\n",
    "\n",
    "    pathMatrix = np.ones((n, n)) * (-1)\n",
    "    q = 1\n",
    "    offCount = n + 1\n",
    "    while offCount > n:\n",
    "        resMat = np.linalg.matrix_power(adjMatrix, q)\n",
    "        \n",
    "        for s in range(n):\n",
    "            for t in range(s,n):\n",
    "                if resMat[s, t] != 0 and pathMatrix[s, t] == -1 and pathMatrix[t, s] == -1 and s != t:\n",
    "                    pathMatrix[s, t] = q\n",
    "                    pathMatrix[t, s] = q\n",
    "\n",
    "        offCount = np.count_nonzero(pathMatrix == -1)\n",
    "        q += 1\n",
    "    \n",
    "    cubeAdjMatrix = np.linalg.matrix_power(adjMatrix,3)\n",
    "    nominator= np.trace(cubeAdjMatrix)\n",
    "    degrees = np.sum(adjMatrix, axis=1, dtype='int')\n",
    "    tmpFactor = [degree*(degree-1) for degree in degrees]\n",
    "    denominator = np.sum(tmpFactor)\n",
    "\n",
    "    clusteringCoeff = nominator/denominator\n",
    "    clusteringCoeffList1.append(clusteringCoeff)\n",
    "\n",
    "\n"
   ]
  },
  {
   "cell_type": "code",
   "execution_count": 63,
   "metadata": {},
   "outputs": [
    {
     "name": "stderr",
     "output_type": "stream",
     "text": [
      "100%|██████████| 27/27 [09:24<00:00, 20.90s/it]  \n"
     ]
    }
   ],
   "source": [
    "clusteringCoeff = 0\n",
    "n = 1000\n",
    "parameterC2=np.array([200,300,400,500,600,700,800,900,1000])\n",
    "parameterC2 = np.concatenate((parameterC,parameterC2))\n",
    "p = 0\n",
    "clusteringCoeffList2 = []\n",
    "\n",
    "\n",
    "for j, c in enumerate(tqdm(parameterC2)):\n",
    "    boundary = c/2\n",
    "    adjMatrix = np.zeros((n, n))\n",
    "    for k in range(n):\n",
    "        for l in range(n):\n",
    "            if 1 <= np.absolute((k - l)%n) and np.absolute((l - k)%n) <= boundary:\n",
    "                adjMatrix[k, l] = 1\n",
    "                adjMatrix[l, k] = 1\n",
    "\n",
    "    randMatrix = np.random.uniform(low=0.0, high=1.0, size=(n, n))\n",
    "\n",
    "\n",
    "    #rewiring\n",
    "    for q in range(n):\n",
    "        for s in range(q,n):\n",
    "            if adjMatrix[q,s] == 1:\n",
    "                if randMatrix[q,s] <= p:\n",
    "                    zeroIndices = np.where(adjMatrix[q] == 0)[0]\n",
    "                    index = np.random.choice(zeroIndices)\n",
    "                    \n",
    "                    randMatrix[q,index]=1\n",
    "                    adjMatrix[q,s] = 0\n",
    "                    adjMatrix[s,q] = 0\n",
    "                    adjMatrix[q,index] = 1\n",
    "                    adjMatrix[index,q] = 1\n",
    "\n",
    "    pathMatrix = np.ones((n, n)) * (-1)\n",
    "    q = 1\n",
    "    offCount = n + 1\n",
    "    while offCount > n:\n",
    "        resMat = np.linalg.matrix_power(adjMatrix, q)\n",
    "        \n",
    "        for s in range(n):\n",
    "            for t in range(s,n):\n",
    "                if resMat[s, t] != 0 and pathMatrix[s, t] == -1 and pathMatrix[t, s] == -1 and s != t:\n",
    "                    pathMatrix[s, t] = q\n",
    "                    pathMatrix[t, s] = q\n",
    "\n",
    "        offCount = np.count_nonzero(pathMatrix == -1)\n",
    "        q += 1\n",
    "    \n",
    "    cubeAdjMatrix = np.linalg.matrix_power(adjMatrix,3)\n",
    "    nominator= np.trace(cubeAdjMatrix)\n",
    "    degrees = np.sum(adjMatrix, axis=1, dtype='int')\n",
    "    tmpFactor = [degree*(degree-1) for degree in degrees]\n",
    "    denominator = np.sum(tmpFactor)\n",
    "\n",
    "    clusteringCoeff = nominator/denominator\n",
    "    clusteringCoeffList2.append(clusteringCoeff)\n"
   ]
  },
  {
   "cell_type": "code",
   "execution_count": 79,
   "metadata": {},
   "outputs": [
    {
     "ename": "TypeError",
     "evalue": "'Axes' object is not subscriptable",
     "output_type": "error",
     "traceback": [
      "\u001b[0;31m---------------------------------------------------------------------------\u001b[0m",
      "\u001b[0;31mTypeError\u001b[0m                                 Traceback (most recent call last)",
      "\u001b[1;32m/Users/fredriktsitje/Documents/Github/SimlationOfComplexSystems/Lab 12/12_5_Average_path_length_and_clustering_coefficient_of_Watts_Strogatz_small_world_graphs.ipynb Cell 6\u001b[0m line \u001b[0;36m5\n\u001b[1;32m      <a href='vscode-notebook-cell:/Users/fredriktsitje/Documents/Github/SimlationOfComplexSystems/Lab%2012/12_5_Average_path_length_and_clustering_coefficient_of_Watts_Strogatz_small_world_graphs.ipynb#W5sZmlsZQ%3D%3D?line=1'>2</a>\u001b[0m line \u001b[39m=\u001b[39m np\u001b[39m.\u001b[39mlogspace(np\u001b[39m.\u001b[39mlog10(\u001b[39m2\u001b[39m),\u001b[39m3\u001b[39m,\u001b[39m100\u001b[39m)\n\u001b[1;32m      <a href='vscode-notebook-cell:/Users/fredriktsitje/Documents/Github/SimlationOfComplexSystems/Lab%2012/12_5_Average_path_length_and_clustering_coefficient_of_Watts_Strogatz_small_world_graphs.ipynb#W5sZmlsZQ%3D%3D?line=3'>4</a>\u001b[0m theoretical_coefficients \u001b[39m=\u001b[39m (\u001b[39m3\u001b[39m\u001b[39m*\u001b[39m(line \u001b[39m-\u001b[39m \u001b[39m2\u001b[39m)) \u001b[39m/\u001b[39m (\u001b[39m4\u001b[39m\u001b[39m*\u001b[39m(line \u001b[39m-\u001b[39m \u001b[39m1\u001b[39m))\n\u001b[0;32m----> <a href='vscode-notebook-cell:/Users/fredriktsitje/Documents/Github/SimlationOfComplexSystems/Lab%2012/12_5_Average_path_length_and_clustering_coefficient_of_Watts_Strogatz_small_world_graphs.ipynb#W5sZmlsZQ%3D%3D?line=4'>5</a>\u001b[0m ax[\u001b[39m0\u001b[39;49m]\u001b[39m.\u001b[39msemilogx(line, theoretical_coefficients,\u001b[39m'\u001b[39m\u001b[39m--\u001b[39m\u001b[39m'\u001b[39m,label\u001b[39m=\u001b[39m\u001b[39m\"\u001b[39m\u001b[39mTheoretical\u001b[39m\u001b[39m\"\u001b[39m)\n\u001b[1;32m      <a href='vscode-notebook-cell:/Users/fredriktsitje/Documents/Github/SimlationOfComplexSystems/Lab%2012/12_5_Average_path_length_and_clustering_coefficient_of_Watts_Strogatz_small_world_graphs.ipynb#W5sZmlsZQ%3D%3D?line=5'>6</a>\u001b[0m \u001b[39m# ax[0].semilogx(parameterC, clusteringCoeffList1[:], 'o', label=\"Numerical, n = {}\".format(50))\u001b[39;00m\n\u001b[1;32m      <a href='vscode-notebook-cell:/Users/fredriktsitje/Documents/Github/SimlationOfComplexSystems/Lab%2012/12_5_Average_path_length_and_clustering_coefficient_of_Watts_Strogatz_small_world_graphs.ipynb#W5sZmlsZQ%3D%3D?line=6'>7</a>\u001b[0m \u001b[39m# ax[0].semilogx(parameterC2, clusteringCoeffList2[:], 'o', label=\"Numerical, n = {}\".format(1000))\u001b[39;00m\n\u001b[1;32m      <a href='vscode-notebook-cell:/Users/fredriktsitje/Documents/Github/SimlationOfComplexSystems/Lab%2012/12_5_Average_path_length_and_clustering_coefficient_of_Watts_Strogatz_small_world_graphs.ipynb#W5sZmlsZQ%3D%3D?line=7'>8</a>\u001b[0m ax[\u001b[39m0\u001b[39m]\u001b[39m.\u001b[39msemilogx(parameterC, clusteringCoeffList1[:], \u001b[39m'\u001b[39m\u001b[39mo\u001b[39m\u001b[39m'\u001b[39m, label\u001b[39m=\u001b[39m\u001b[39m\"\u001b[39m\u001b[39mNumerical, n = \u001b[39m\u001b[39m{}\u001b[39;00m\u001b[39m\"\u001b[39m\u001b[39m.\u001b[39mformat(\u001b[39m50\u001b[39m), markersize\u001b[39m=\u001b[39m\u001b[39m5\u001b[39m)\n",
      "\u001b[0;31mTypeError\u001b[0m: 'Axes' object is not subscriptable"
     ]
    },
    {
     "data": {
      "image/png": "[encoded data removed]",
      "text/plain": [
       "<Figure size 1000x500 with 1 Axes>"
      ]
     },
     "metadata": {},
     "output_type": "display_data"
    }
   ],
   "source": [
    "\n",
    "fig, ax = plt.subplots(1,2, figsize=(10,5))\n",
    "line = np.logspace(np.log10(2),3,100)\n",
    "\n",
    "theoretical_coefficients = (3*(line - 2)) / (4*(line - 1))\n",
    "ax[0].semilogx(line, theoretical_coefficients,'--',label=\"Theoretical\")\n",
    "# ax[0].semilogx(parameterC, clusteringCoeffList1[:], 'o', label=\"Numerical, n = {}\".format(50))\n",
    "# ax[0].semilogx(parameterC2, clusteringCoeffList2[:], 'o', label=\"Numerical, n = {}\".format(1000))\n",
    "ax[0].semilogx(parameterC, clusteringCoeffList1[:], 'o', label=\"Numerical, n = {}\".format(50), markersize=5)\n",
    "ax[0].semilogx(parameterC2, clusteringCoeffList2[:], 'o', label=\"Numerical, n = {}\".format(1000), markersize=4)\n",
    "\n",
    "\n",
    "ax[1].set_xlabel(\"$c$\")\n",
    "ax[1].set_ylabel(\"$C$\")\n",
    "ax[1].set_title(\"Clustering coefficient\")\n",
    "ax[1].set_ylim(0,1)\n",
    "\n",
    "plt.show()"
   ]
  },
  {
   "cell_type": "code",
   "execution_count": 81,
   "metadata": {},
   "outputs": [
    {
     "data": {
      "image/png": "[encoded data removed]",
      "text/plain": [
       "<Figure size 640x480 with 1 Axes>"
      ]
     },
     "metadata": {},
     "output_type": "display_data"
    }
   ],
   "source": [
    "line = np.logspace(np.log10(2),3,100)\n",
    "\n",
    "theoretical_coefficients = (3*(line - 2)) / (4*(line - 1))\n",
    "plt.semilogx(line, theoretical_coefficients,'--',label=\"Theoretical\")\n",
    "# ax[0].semilogx(parameterC, clusteringCoeffList1[:], 'o', label=\"Numerical, n = {}\".format(50))\n",
    "# ax[0].semilogx(parameterC2, clusteringCoeffList2[:], 'o', label=\"Numerical, n = {}\".format(1000))\n",
    "plt.semilogx(parameterC, clusteringCoeffList1[:], 'o', label=\"Numerical, n = {}\".format(50), markersize=5)\n",
    "plt.semilogx(parameterC2, clusteringCoeffList2[:], 'o', label=\"Numerical, n = {}\".format(1000), markersize=4)\n",
    "\n",
    "\n",
    "plt.xlabel(\"$c$\")\n",
    "plt.ylabel(\"$C$\")\n",
    "plt.title(\"Clustering coefficient\")\n",
    "plt.ylim(0,1)\n",
    "\n",
    "plt.show()"
   ]
  }
 ],
 "metadata": {
  "kernelspec": {
   "display_name": "base",
   "language": "python",
   "name": "python3"
  },
  "language_info": {
   "codemirror_mode": {
    "name": "ipython",
    "version": 3
   },
   "file_extension": ".py",
   "mimetype": "text/x-python",
   "name": "python",
   "nbconvert_exporter": "python",
   "pygments_lexer": "ipython3",
   "version": "3.10.9"
  }
 },
 "nbformat": 4,
 "nbformat_minor": 2
}
